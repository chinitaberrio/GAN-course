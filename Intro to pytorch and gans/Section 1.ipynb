{
 "cells": [
  {
   "cell_type": "markdown",
   "metadata": {},
   "source": [
    "### Lecture 1"
   ]
  },
  {
   "cell_type": "markdown",
   "metadata": {},
   "source": [
    "#### Environment Setup"
   ]
  },
  {
   "cell_type": "code",
   "execution_count": 1,
   "metadata": {},
   "outputs": [
    {
     "name": "stdout",
     "output_type": "stream",
     "text": [
      "Python 3.6.12 :: Anaconda, Inc.\r\n"
     ]
    }
   ],
   "source": [
    "!python -V"
   ]
  },
  {
   "cell_type": "code",
   "execution_count": 2,
   "metadata": {},
   "outputs": [
    {
     "name": "stdout",
     "output_type": "stream",
     "text": [
      "Python 3.6.12 :: Anaconda, Inc.\r\n"
     ]
    }
   ],
   "source": [
    "!python3 -V"
   ]
  },
  {
   "cell_type": "code",
   "execution_count": null,
   "metadata": {},
   "outputs": [],
   "source": []
  },
  {
   "cell_type": "code",
   "execution_count": null,
   "metadata": {},
   "outputs": [],
   "source": []
  },
  {
   "cell_type": "code",
   "execution_count": 3,
   "metadata": {},
   "outputs": [
    {
     "name": "stdout",
     "output_type": "stream",
     "text": [
      "1.7.0\n",
      "0.8.1\n",
      "False\n"
     ]
    }
   ],
   "source": [
    "import torch\n",
    "import torchvision\n",
    "\n",
    "\n",
    "print(torch.__version__)\n",
    "print(torchvision.__version__)\n",
    "print(torch.cuda.is_available())"
   ]
  },
  {
   "cell_type": "markdown",
   "metadata": {},
   "source": [
    "#### Bonus Tip\n",
    "\n",
    "\n",
    "##### Jupyter Notebook Remote Server"
   ]
  },
  {
   "cell_type": "markdown",
   "metadata": {},
   "source": [
    "##### Terminal Only\n",
    "`\n",
    "$ jupyter notebook --port 8888 --no-browser --ip 0.0.0.0\n",
    "`"
   ]
  },
  {
   "cell_type": "markdown",
   "metadata": {},
   "source": [
    "#### Windows Troubleshooting\n",
    "\n",
    "Reference: <a href=\"https://pytorch.org/docs/stable/notes/windows.html\" target=\"_BLANK\">WINDOWS FAQ</a>"
   ]
  },
  {
   "cell_type": "markdown",
   "metadata": {},
   "source": [
    "#### LeNet-5 Architecture"
   ]
  },
  {
   "cell_type": "code",
   "execution_count": 29,
   "metadata": {},
   "outputs": [],
   "source": [
    "import torch\n",
    "\n",
    "\n",
    "class LeNet5(torch.nn.Module):\n",
    "    \n",
    "    def __init__(self):\n",
    "        \n",
    "        super(LeNet5, self).__init__()\n",
    "        \n",
    "        self.convnet = torch.nn.Sequential(\n",
    "            # Conv Block 1\n",
    "            torch.nn.Conv2d(\n",
    "                in_channels=1,\n",
    "                out_channels=6,\n",
    "                kernel_size=(5, 5),\n",
    "                stride=1,\n",
    "                bias=True\n",
    "            ),\n",
    "            torch.nn.ReLU(),\n",
    "            torch.nn.MaxPool2d(\n",
    "                kernel_size=(2, 2),\n",
    "                stride=1\n",
    "            ),\n",
    "            # Conv Block 2\n",
    "            torch.nn.Conv2d(\n",
    "                in_channels=6,\n",
    "                out_channels=16,\n",
    "                kernel_size=(5, 5),\n",
    "                stride=1,\n",
    "                bias=True\n",
    "            ),\n",
    "            torch.nn.ReLU(),\n",
    "            torch.nn.MaxPool2d(\n",
    "                kernel_size=(2, 2),\n",
    "                stride=1\n",
    "            ),\n",
    "            # Conv Block 3\n",
    "            torch.nn.Conv2d(\n",
    "                in_channels=16,\n",
    "                out_channels=32,\n",
    "                kernel_size=(5, 5),\n",
    "                stride=1,\n",
    "                bias=True\n",
    "            ),\n",
    "            torch.nn.ReLU(),\n",
    "            torch.nn.MaxPool2d(\n",
    "                kernel_size=(2, 2),\n",
    "                stride=1\n",
    "            )\n",
    "        )\n",
    "        \n",
    "        self.fcn = torch.nn.Sequential(\n",
    "            # Fully Connected Layer 1\n",
    "            torch.nn.Linear(\n",
    "                in_features=9248,\n",
    "                out_features=84,\n",
    "                bias=True\n",
    "            ),\n",
    "            torch.nn.ReLU(),\n",
    "            # Classifier Layer 2\n",
    "            torch.nn.Linear(\n",
    "                in_features=84,\n",
    "                out_features=10,\n",
    "                bias=True\n",
    "            ),\n",
    "            torch.nn.Softmax(dim=1)\n",
    "        )\n",
    "\n",
    "    def forward(self, batch):\n",
    "        ret = self.convnet(batch)\n",
    "        ret = ret.view(batch.size(0), -1)\n",
    "        ret = self.fcn(ret)\n",
    "        return ret"
   ]
  },
  {
   "cell_type": "markdown",
   "metadata": {},
   "source": [
    "#### Visualize Network ( Bonus )"
   ]
  },
  {
   "cell_type": "code",
   "execution_count": 30,
   "metadata": {},
   "outputs": [
    {
     "name": "stdout",
     "output_type": "stream",
     "text": [
      "Requirement already satisfied: graphviz in /home/stephany/.local/lib/python3.6/site-packages (0.14.2)\r\n",
      "Requirement already satisfied: hiddenlayer in /home/stephany/miniconda3/envs/pytorch_env/lib/python3.6/site-packages (0.2)\r\n"
     ]
    }
   ],
   "source": [
    "! python3 -m pip install graphviz hiddenlayer --user"
   ]
  },
  {
   "cell_type": "code",
   "execution_count": 31,
   "metadata": {},
   "outputs": [
    {
     "data": {
      "image/svg+xml": [
       "<?xml version=\"1.0\" encoding=\"UTF-8\" standalone=\"no\"?>\n",
       "<!DOCTYPE svg PUBLIC \"-//W3C//DTD SVG 1.1//EN\"\n",
       " \"http://www.w3.org/Graphics/SVG/1.1/DTD/svg11.dtd\">\n",
       "<!-- Generated by graphviz version 2.40.1 (20161225.0304)\n",
       " -->\n",
       "<!-- Title: %3 Pages: 1 -->\n",
       "<svg width=\"1164pt\" height=\"243pt\"\n",
       " viewBox=\"0.00 0.00 1164.00 243.00\" xmlns=\"http://www.w3.org/2000/svg\" xmlns:xlink=\"http://www.w3.org/1999/xlink\">\n",
       "<g id=\"graph0\" class=\"graph\" transform=\"scale(1 1) rotate(0) translate(72 207)\">\n",
       "<title>%3</title>\n",
       "<polygon fill=\"#ffffff\" stroke=\"transparent\" points=\"-72,36 -72,-207 1092,-207 1092,36 -72,36\"/>\n",
       "<!-- /outputs/13 -->\n",
       "<g id=\"node1\" class=\"node\">\n",
       "<title>/outputs/13</title>\n",
       "<polygon fill=\"#e8e8e8\" stroke=\"#000000\" points=\"190,-36 120,-36 120,0 190,0 190,-36\"/>\n",
       "<text text-anchor=\"start\" x=\"128\" y=\"-15\" font-family=\"Times\" font-size=\"10.00\" fill=\"#000000\">MaxPool2x2</text>\n",
       "</g>\n",
       "<!-- 4676492236134746928 -->\n",
       "<g id=\"node15\" class=\"node\">\n",
       "<title>4676492236134746928</title>\n",
       "<polygon fill=\"#e8e8e8\" stroke=\"#000000\" points=\"310,-36 226,-36 226,0 310,0 310,-36\"/>\n",
       "<text text-anchor=\"start\" x=\"234\" y=\"-15\" font-family=\"Times\" font-size=\"10.00\" fill=\"#000000\">Conv5x5 &gt; Relu</text>\n",
       "</g>\n",
       "<!-- /outputs/13&#45;&gt;4676492236134746928 -->\n",
       "<g id=\"edge11\" class=\"edge\">\n",
       "<title>/outputs/13&#45;&gt;4676492236134746928</title>\n",
       "<path fill=\"none\" stroke=\"#000000\" d=\"M190.1345,-18C198.237,-18 207.0271,-18 215.6853,-18\"/>\n",
       "<polygon fill=\"#000000\" stroke=\"#000000\" points=\"215.7397,-21.5001 225.7397,-18 215.7396,-14.5001 215.7397,-21.5001\"/>\n",
       "</g>\n",
       "<!-- /outputs/16 -->\n",
       "<g id=\"node2\" class=\"node\">\n",
       "<title>/outputs/16</title>\n",
       "<polygon fill=\"#e8e8e8\" stroke=\"#000000\" points=\"416,-36 346,-36 346,0 416,0 416,-36\"/>\n",
       "<text text-anchor=\"start\" x=\"354\" y=\"-15\" font-family=\"Times\" font-size=\"10.00\" fill=\"#000000\">MaxPool2x2</text>\n",
       "</g>\n",
       "<!-- 16841733590646890984 -->\n",
       "<g id=\"node16\" class=\"node\">\n",
       "<title>16841733590646890984</title>\n",
       "<polygon fill=\"#e8e8e8\" stroke=\"#000000\" points=\"536,-36 452,-36 452,0 536,0 536,-36\"/>\n",
       "<text text-anchor=\"start\" x=\"460\" y=\"-15\" font-family=\"Times\" font-size=\"10.00\" fill=\"#000000\">Conv5x5 &gt; Relu</text>\n",
       "</g>\n",
       "<!-- /outputs/16&#45;&gt;16841733590646890984 -->\n",
       "<g id=\"edge13\" class=\"edge\">\n",
       "<title>/outputs/16&#45;&gt;16841733590646890984</title>\n",
       "<path fill=\"none\" stroke=\"#000000\" d=\"M416.1345,-18C424.237,-18 433.0271,-18 441.6853,-18\"/>\n",
       "<polygon fill=\"#000000\" stroke=\"#000000\" points=\"441.7397,-21.5001 451.7397,-18 441.7396,-14.5001 441.7397,-21.5001\"/>\n",
       "</g>\n",
       "<!-- /outputs/19 -->\n",
       "<g id=\"node3\" class=\"node\">\n",
       "<title>/outputs/19</title>\n",
       "<polygon fill=\"#e8e8e8\" stroke=\"#000000\" points=\"642,-36 572,-36 572,0 642,0 642,-36\"/>\n",
       "<text text-anchor=\"start\" x=\"580\" y=\"-15\" font-family=\"Times\" font-size=\"10.00\" fill=\"#000000\">MaxPool2x2</text>\n",
       "</g>\n",
       "<!-- /outputs/27 -->\n",
       "<g id=\"node11\" class=\"node\">\n",
       "<title>/outputs/27</title>\n",
       "<polygon fill=\"#e8e8e8\" stroke=\"#000000\" points=\"732,-63 678,-63 678,-27 732,-27 732,-63\"/>\n",
       "<text text-anchor=\"start\" x=\"688\" y=\"-42\" font-family=\"Times\" font-size=\"10.00\" fill=\"#000000\">Reshape</text>\n",
       "</g>\n",
       "<!-- /outputs/19&#45;&gt;/outputs/27 -->\n",
       "<g id=\"edge1\" class=\"edge\">\n",
       "<title>/outputs/19&#45;&gt;/outputs/27</title>\n",
       "<path fill=\"none\" stroke=\"#000000\" d=\"M642.1034,-27.6714C650.5511,-29.9988 659.5996,-32.4917 668.1254,-34.8407\"/>\n",
       "<polygon fill=\"#000000\" stroke=\"#000000\" points=\"667.2561,-38.2315 677.8266,-37.5135 669.1155,-31.483 667.2561,-38.2315\"/>\n",
       "</g>\n",
       "<!-- /outputs/20 -->\n",
       "<g id=\"node4\" class=\"node\">\n",
       "<title>/outputs/20</title>\n",
       "<polygon fill=\"#e8e8e8\" stroke=\"#000000\" points=\"295,-171 241,-171 241,-135 295,-135 295,-171\"/>\n",
       "<text text-anchor=\"start\" x=\"256\" y=\"-150\" font-family=\"Times\" font-size=\"10.00\" fill=\"#000000\">Shape</text>\n",
       "</g>\n",
       "<!-- /outputs/22 -->\n",
       "<g id=\"node6\" class=\"node\">\n",
       "<title>/outputs/22</title>\n",
       "<polygon fill=\"#e8e8e8\" stroke=\"#000000\" points=\"408,-144 354,-144 354,-108 408,-108 408,-144\"/>\n",
       "<text text-anchor=\"start\" x=\"367\" y=\"-123\" font-family=\"Times\" font-size=\"10.00\" fill=\"#000000\">Gather</text>\n",
       "</g>\n",
       "<!-- /outputs/20&#45;&gt;/outputs/22 -->\n",
       "<g id=\"edge2\" class=\"edge\">\n",
       "<title>/outputs/20&#45;&gt;/outputs/22</title>\n",
       "<path fill=\"none\" stroke=\"#000000\" d=\"M295.0663,-146.5328C309.6348,-143.0519 327.8257,-138.7054 343.7149,-134.9088\"/>\n",
       "<polygon fill=\"#000000\" stroke=\"#000000\" points=\"344.8501,-138.2362 353.7629,-132.508 343.2233,-131.4278 344.8501,-138.2362\"/>\n",
       "</g>\n",
       "<!-- /outputs/21 -->\n",
       "<g id=\"node5\" class=\"node\">\n",
       "<title>/outputs/21</title>\n",
       "<polygon fill=\"#e8e8e8\" stroke=\"#000000\" points=\"295,-117 241,-117 241,-81 295,-81 295,-117\"/>\n",
       "<text text-anchor=\"start\" x=\"250\" y=\"-96\" font-family=\"Times\" font-size=\"10.00\" fill=\"#000000\">Constant</text>\n",
       "</g>\n",
       "<!-- /outputs/21&#45;&gt;/outputs/22 -->\n",
       "<g id=\"edge3\" class=\"edge\">\n",
       "<title>/outputs/21&#45;&gt;/outputs/22</title>\n",
       "<path fill=\"none\" stroke=\"#000000\" d=\"M295.0663,-105.4672C309.6348,-108.9481 327.8257,-113.2946 343.7149,-117.0912\"/>\n",
       "<polygon fill=\"#000000\" stroke=\"#000000\" points=\"343.2233,-120.5722 353.7629,-119.492 344.8501,-113.7638 343.2233,-120.5722\"/>\n",
       "</g>\n",
       "<!-- /outputs/24 -->\n",
       "<g id=\"node8\" class=\"node\">\n",
       "<title>/outputs/24</title>\n",
       "<polygon fill=\"#e8e8e8\" stroke=\"#000000\" points=\"524.5,-144 463.5,-144 463.5,-108 524.5,-108 524.5,-144\"/>\n",
       "<text text-anchor=\"start\" x=\"472\" y=\"-123\" font-family=\"Times\" font-size=\"10.00\" fill=\"#000000\">Unsqueeze</text>\n",
       "</g>\n",
       "<!-- /outputs/22&#45;&gt;/outputs/24 -->\n",
       "<g id=\"edge4\" class=\"edge\">\n",
       "<title>/outputs/22&#45;&gt;/outputs/24</title>\n",
       "<path fill=\"none\" stroke=\"#000000\" d=\"M408.0663,-126C421.5412,-126 438.1149,-126 453.1001,-126\"/>\n",
       "<polygon fill=\"#000000\" stroke=\"#000000\" points=\"453.1631,-129.5001 463.1631,-126 453.1631,-122.5001 453.1631,-129.5001\"/>\n",
       "</g>\n",
       "<!-- /outputs/23 -->\n",
       "<g id=\"node7\" class=\"node\">\n",
       "<title>/outputs/23</title>\n",
       "<polygon fill=\"#e8e8e8\" stroke=\"#000000\" points=\"408,-90 354,-90 354,-54 408,-54 408,-90\"/>\n",
       "<text text-anchor=\"start\" x=\"363\" y=\"-69\" font-family=\"Times\" font-size=\"10.00\" fill=\"#000000\">Constant</text>\n",
       "</g>\n",
       "<!-- /outputs/25 -->\n",
       "<g id=\"node9\" class=\"node\">\n",
       "<title>/outputs/25</title>\n",
       "<polygon fill=\"#e8e8e8\" stroke=\"#000000\" points=\"524.5,-90 463.5,-90 463.5,-54 524.5,-54 524.5,-90\"/>\n",
       "<text text-anchor=\"start\" x=\"472\" y=\"-69\" font-family=\"Times\" font-size=\"10.00\" fill=\"#000000\">Unsqueeze</text>\n",
       "</g>\n",
       "<!-- /outputs/23&#45;&gt;/outputs/25 -->\n",
       "<g id=\"edge5\" class=\"edge\">\n",
       "<title>/outputs/23&#45;&gt;/outputs/25</title>\n",
       "<path fill=\"none\" stroke=\"#000000\" d=\"M408.0663,-72C421.5412,-72 438.1149,-72 453.1001,-72\"/>\n",
       "<polygon fill=\"#000000\" stroke=\"#000000\" points=\"453.1631,-75.5001 463.1631,-72 453.1631,-68.5001 453.1631,-75.5001\"/>\n",
       "</g>\n",
       "<!-- /outputs/26 -->\n",
       "<g id=\"node10\" class=\"node\">\n",
       "<title>/outputs/26</title>\n",
       "<polygon fill=\"#e8e8e8\" stroke=\"#000000\" points=\"634,-90 580,-90 580,-54 634,-54 634,-90\"/>\n",
       "<text text-anchor=\"start\" x=\"592\" y=\"-69\" font-family=\"Times\" font-size=\"10.00\" fill=\"#000000\">Concat</text>\n",
       "</g>\n",
       "<!-- /outputs/24&#45;&gt;/outputs/26 -->\n",
       "<g id=\"edge6\" class=\"edge\">\n",
       "<title>/outputs/24&#45;&gt;/outputs/26</title>\n",
       "<path fill=\"none\" stroke=\"#000000\" d=\"M524.5794,-111.3868C538.7344,-104.6225 555.6606,-96.5339 570.4813,-89.4514\"/>\n",
       "<polygon fill=\"#000000\" stroke=\"#000000\" points=\"572.3527,-92.4363 579.8663,-84.9665 569.3345,-86.1204 572.3527,-92.4363\"/>\n",
       "</g>\n",
       "<!-- /outputs/25&#45;&gt;/outputs/26 -->\n",
       "<g id=\"edge7\" class=\"edge\">\n",
       "<title>/outputs/25&#45;&gt;/outputs/26</title>\n",
       "<path fill=\"none\" stroke=\"#000000\" d=\"M524.5794,-72C538.4648,-72 555.0168,-72 569.6322,-72\"/>\n",
       "<polygon fill=\"#000000\" stroke=\"#000000\" points=\"569.8663,-75.5001 579.8663,-72 569.8663,-68.5001 569.8663,-75.5001\"/>\n",
       "</g>\n",
       "<!-- /outputs/26&#45;&gt;/outputs/27 -->\n",
       "<g id=\"edge8\" class=\"edge\">\n",
       "<title>/outputs/26&#45;&gt;/outputs/27</title>\n",
       "<path fill=\"none\" stroke=\"#000000\" d=\"M634.0384,-64.5507C644.4487,-61.6825 656.5267,-58.3549 667.7343,-55.2671\"/>\n",
       "<polygon fill=\"#000000\" stroke=\"#000000\" points=\"668.9985,-58.5493 677.7097,-52.5188 667.1392,-51.8007 668.9985,-58.5493\"/>\n",
       "</g>\n",
       "<!-- 5545427690935666668 -->\n",
       "<g id=\"node17\" class=\"node\">\n",
       "<title>5545427690935666668</title>\n",
       "<polygon fill=\"#e8e8e8\" stroke=\"#000000\" points=\"840,-63 768,-63 768,-27 840,-27 840,-63\"/>\n",
       "<text text-anchor=\"start\" x=\"776\" y=\"-42\" font-family=\"Times\" font-size=\"10.00\" fill=\"#000000\">Linear &gt; Relu</text>\n",
       "</g>\n",
       "<!-- /outputs/27&#45;&gt;5545427690935666668 -->\n",
       "<g id=\"edge15\" class=\"edge\">\n",
       "<title>/outputs/27&#45;&gt;5545427690935666668</title>\n",
       "<path fill=\"none\" stroke=\"#000000\" d=\"M732.0522,-45C739.9527,-45 748.8212,-45 757.5618,-45\"/>\n",
       "<polygon fill=\"#000000\" stroke=\"#000000\" points=\"757.6982,-48.5001 767.6982,-45 757.6982,-41.5001 757.6982,-48.5001\"/>\n",
       "</g>\n",
       "<!-- /outputs/30 -->\n",
       "<g id=\"node12\" class=\"node\">\n",
       "<title>/outputs/30</title>\n",
       "<polygon fill=\"#e8e8e8\" stroke=\"#000000\" points=\"930,-63 876,-63 876,-27 930,-27 930,-63\"/>\n",
       "<text text-anchor=\"start\" x=\"890\" y=\"-42\" font-family=\"Times\" font-size=\"10.00\" fill=\"#000000\">Linear</text>\n",
       "</g>\n",
       "<!-- /outputs/31 -->\n",
       "<g id=\"node13\" class=\"node\">\n",
       "<title>/outputs/31</title>\n",
       "<polygon fill=\"#e8e8e8\" stroke=\"#000000\" points=\"1020,-63 966,-63 966,-27 1020,-27 1020,-63\"/>\n",
       "<text text-anchor=\"start\" x=\"976\" y=\"-42\" font-family=\"Times\" font-size=\"10.00\" fill=\"#000000\">Softmax</text>\n",
       "</g>\n",
       "<!-- /outputs/30&#45;&gt;/outputs/31 -->\n",
       "<g id=\"edge9\" class=\"edge\">\n",
       "<title>/outputs/30&#45;&gt;/outputs/31</title>\n",
       "<path fill=\"none\" stroke=\"#000000\" d=\"M930.003,-45C938.0277,-45 946.9665,-45 955.5309,-45\"/>\n",
       "<polygon fill=\"#000000\" stroke=\"#000000\" points=\"955.7051,-48.5001 965.705,-45 955.705,-41.5001 955.7051,-48.5001\"/>\n",
       "</g>\n",
       "<!-- 6167951442463334688 -->\n",
       "<g id=\"node14\" class=\"node\">\n",
       "<title>6167951442463334688</title>\n",
       "<polygon fill=\"#e8e8e8\" stroke=\"#000000\" points=\"84,-36 0,-36 0,0 84,0 84,-36\"/>\n",
       "<text text-anchor=\"start\" x=\"8\" y=\"-15\" font-family=\"Times\" font-size=\"10.00\" fill=\"#000000\">Conv5x5 &gt; Relu</text>\n",
       "</g>\n",
       "<!-- 6167951442463334688&#45;&gt;/outputs/13 -->\n",
       "<g id=\"edge10\" class=\"edge\">\n",
       "<title>6167951442463334688&#45;&gt;/outputs/13</title>\n",
       "<path fill=\"none\" stroke=\"#000000\" d=\"M84.077,-18C92.4638,-18 101.305,-18 109.7918,-18\"/>\n",
       "<polygon fill=\"#000000\" stroke=\"#000000\" points=\"109.9138,-21.5001 119.9138,-18 109.9138,-14.5001 109.9138,-21.5001\"/>\n",
       "</g>\n",
       "<!-- 4676492236134746928&#45;&gt;/outputs/16 -->\n",
       "<g id=\"edge12\" class=\"edge\">\n",
       "<title>4676492236134746928&#45;&gt;/outputs/16</title>\n",
       "<path fill=\"none\" stroke=\"#000000\" d=\"M310.077,-18C318.4638,-18 327.305,-18 335.7918,-18\"/>\n",
       "<polygon fill=\"#000000\" stroke=\"#000000\" points=\"335.9138,-21.5001 345.9138,-18 335.9138,-14.5001 335.9138,-21.5001\"/>\n",
       "</g>\n",
       "<!-- 16841733590646890984&#45;&gt;/outputs/19 -->\n",
       "<g id=\"edge14\" class=\"edge\">\n",
       "<title>16841733590646890984&#45;&gt;/outputs/19</title>\n",
       "<path fill=\"none\" stroke=\"#000000\" d=\"M536.077,-18C544.4638,-18 553.305,-18 561.7918,-18\"/>\n",
       "<polygon fill=\"#000000\" stroke=\"#000000\" points=\"561.9138,-21.5001 571.9138,-18 561.9138,-14.5001 561.9138,-21.5001\"/>\n",
       "</g>\n",
       "<!-- 5545427690935666668&#45;&gt;/outputs/30 -->\n",
       "<g id=\"edge16\" class=\"edge\">\n",
       "<title>5545427690935666668&#45;&gt;/outputs/30</title>\n",
       "<path fill=\"none\" stroke=\"#000000\" d=\"M840.0213,-45C848.3402,-45 857.2088,-45 865.5856,-45\"/>\n",
       "<polygon fill=\"#000000\" stroke=\"#000000\" points=\"865.8548,-48.5001 875.8547,-45 865.8547,-41.5001 865.8548,-48.5001\"/>\n",
       "</g>\n",
       "</g>\n",
       "</svg>\n"
      ],
      "text/plain": [
       "<hiddenlayer.graph.Graph at 0x7fc0f2908ac8>"
      ]
     },
     "execution_count": 31,
     "metadata": {},
     "output_type": "execute_result"
    }
   ],
   "source": [
    "import hiddenlayer\n",
    "\n",
    "hiddenlayer.build_graph(LeNet5(), torch.zeros(1, 1, 32, 32))"
   ]
  },
  {
   "cell_type": "markdown",
   "metadata": {},
   "source": [
    "<i>Reference</i>: <a href=\"https://github.com/waleedka/hiddenlayer\">HiddenLayer Documentation</a>"
   ]
  },
  {
   "cell_type": "markdown",
   "metadata": {},
   "source": [
    "### Lecture 2"
   ]
  },
  {
   "cell_type": "code",
   "execution_count": 8,
   "metadata": {},
   "outputs": [],
   "source": [
    "import numpy as np\n",
    "import torch.nn.functional as F"
   ]
  },
  {
   "cell_type": "code",
   "execution_count": 10,
   "metadata": {},
   "outputs": [],
   "source": [
    "inputs = torch.from_numpy(\n",
    "            np.array(\n",
    "                [\n",
    "                    [0, 0],\n",
    "                    [0, 1],\n",
    "                    [1, 0],\n",
    "                    [1, 1]\n",
    "                ],\n",
    "                dtype=np.float32\n",
    "            )\n",
    "        )\n",
    "\n",
    "outputs = torch.from_numpy(\n",
    "            np.array(\n",
    "                [\n",
    "                    0,\n",
    "                    1,\n",
    "                    1,\n",
    "                    0\n",
    "                ],\n",
    "                dtype=np.float32\n",
    "            )\n",
    "        )\n",
    "\n",
    "# One neuron with two inputs\n",
    "weights = torch.randn(1, 2)\n",
    "# Apply gradiant mechanism to this tensor\n",
    "weights.requires_grad = True\n",
    "\n",
    "# Another tensor\n",
    "bias = torch.randn(1, requires_grad=True)"
   ]
  },
  {
   "cell_type": "code",
   "execution_count": 11,
   "metadata": {},
   "outputs": [
    {
     "data": {
      "text/plain": [
       "tensor([[0.4040],\n",
       "        [2.0728],\n",
       "        [0.5833],\n",
       "        [2.2520]], grad_fn=<AddmmBackward>)"
      ]
     },
     "execution_count": 11,
     "metadata": {},
     "output_type": "execute_result"
    }
   ],
   "source": [
    "# Applies a dot product between the inputs and the weights and the bias\n",
    "F.linear(inputs, weights, bias)"
   ]
  },
  {
   "cell_type": "code",
   "execution_count": 13,
   "metadata": {},
   "outputs": [],
   "source": [
    "# output \n",
    "preds = F.linear(inputs, weights, bias)\n",
    "\n",
    "# loss function\n",
    "loss = (outputs - preds).mean()"
   ]
  },
  {
   "cell_type": "code",
   "execution_count": 14,
   "metadata": {},
   "outputs": [
    {
     "data": {
      "text/plain": [
       "<AddmmBackward at 0x7fc0f41c5e80>"
      ]
     },
     "execution_count": 14,
     "metadata": {},
     "output_type": "execute_result"
    }
   ],
   "source": [
    "# \n",
    "preds.grad_fn"
   ]
  },
  {
   "cell_type": "code",
   "execution_count": 15,
   "metadata": {},
   "outputs": [
    {
     "data": {
      "text/plain": [
       "<MeanBackward0 at 0x7fc0f41c1080>"
      ]
     },
     "execution_count": 15,
     "metadata": {},
     "output_type": "execute_result"
    }
   ],
   "source": [
    "loss.grad_fn"
   ]
  },
  {
   "cell_type": "code",
   "execution_count": 16,
   "metadata": {},
   "outputs": [],
   "source": [
    "weights.grad"
   ]
  },
  {
   "cell_type": "code",
   "execution_count": 17,
   "metadata": {},
   "outputs": [],
   "source": [
    "# Start the back propagation\n",
    "loss.backward()"
   ]
  },
  {
   "cell_type": "code",
   "execution_count": 18,
   "metadata": {},
   "outputs": [
    {
     "data": {
      "text/plain": [
       "tensor([[-0.5000, -0.5000]])"
      ]
     },
     "execution_count": 18,
     "metadata": {},
     "output_type": "execute_result"
    }
   ],
   "source": [
    "weights.grad"
   ]
  },
  {
   "cell_type": "markdown",
   "metadata": {},
   "source": [
    "### Lecture 3"
   ]
  },
  {
   "cell_type": "markdown",
   "metadata": {},
   "source": [
    "#### MNIST Dataset"
   ]
  },
  {
   "cell_type": "code",
   "execution_count": 19,
   "metadata": {},
   "outputs": [],
   "source": [
    "import torchvision"
   ]
  },
  {
   "cell_type": "code",
   "execution_count": 20,
   "metadata": {},
   "outputs": [
    {
     "name": "stdout",
     "output_type": "stream",
     "text": [
      "Downloading http://yann.lecun.com/exdb/mnist/train-images-idx3-ubyte.gz to ./data/mnist/MNIST/raw/train-images-idx3-ubyte.gz\n"
     ]
    },
    {
     "data": {
      "application/vnd.jupyter.widget-view+json": {
       "model_id": "5527c72a0fc442c29873eef798268e2c",
       "version_major": 2,
       "version_minor": 0
      },
      "text/plain": [
       "HBox(children=(FloatProgress(value=1.0, bar_style='info', max=1.0), HTML(value='')))"
      ]
     },
     "metadata": {},
     "output_type": "display_data"
    },
    {
     "name": "stdout",
     "output_type": "stream",
     "text": [
      "Extracting ./data/mnist/MNIST/raw/train-images-idx3-ubyte.gz to ./data/mnist/MNIST/raw\n",
      "Downloading http://yann.lecun.com/exdb/mnist/train-labels-idx1-ubyte.gz to ./data/mnist/MNIST/raw/train-labels-idx1-ubyte.gz\n"
     ]
    },
    {
     "data": {
      "application/vnd.jupyter.widget-view+json": {
       "model_id": "d3fde1d70079496db27c265ad1aef47b",
       "version_major": 2,
       "version_minor": 0
      },
      "text/plain": [
       "HBox(children=(FloatProgress(value=1.0, bar_style='info', max=1.0), HTML(value='')))"
      ]
     },
     "metadata": {},
     "output_type": "display_data"
    },
    {
     "name": "stdout",
     "output_type": "stream",
     "text": [
      "Extracting ./data/mnist/MNIST/raw/train-labels-idx1-ubyte.gz to ./data/mnist/MNIST/raw\n",
      "Downloading http://yann.lecun.com/exdb/mnist/t10k-images-idx3-ubyte.gz to ./data/mnist/MNIST/raw/t10k-images-idx3-ubyte.gz\n"
     ]
    },
    {
     "data": {
      "application/vnd.jupyter.widget-view+json": {
       "model_id": "e2c5aa25022443b18343965c94ea5355",
       "version_major": 2,
       "version_minor": 0
      },
      "text/plain": [
       "HBox(children=(FloatProgress(value=1.0, bar_style='info', max=1.0), HTML(value='')))"
      ]
     },
     "metadata": {},
     "output_type": "display_data"
    },
    {
     "name": "stdout",
     "output_type": "stream",
     "text": [
      "Extracting ./data/mnist/MNIST/raw/t10k-images-idx3-ubyte.gz to ./data/mnist/MNIST/raw\n",
      "Downloading http://yann.lecun.com/exdb/mnist/t10k-labels-idx1-ubyte.gz to ./data/mnist/MNIST/raw/t10k-labels-idx1-ubyte.gz\n"
     ]
    },
    {
     "data": {
      "application/vnd.jupyter.widget-view+json": {
       "model_id": "860ca5cb4f82402fa757d5d1c8752af0",
       "version_major": 2,
       "version_minor": 0
      },
      "text/plain": [
       "HBox(children=(FloatProgress(value=1.0, bar_style='info', max=1.0), HTML(value='')))"
      ]
     },
     "metadata": {},
     "output_type": "display_data"
    },
    {
     "name": "stdout",
     "output_type": "stream",
     "text": [
      "Extracting ./data/mnist/MNIST/raw/t10k-labels-idx1-ubyte.gz to ./data/mnist/MNIST/raw\n",
      "Processing...\n"
     ]
    },
    {
     "name": "stderr",
     "output_type": "stream",
     "text": [
      "/home/stephany/miniconda3/envs/pytorch_env/lib/python3.6/site-packages/torchvision/datasets/mnist.py:480: UserWarning: The given NumPy array is not writeable, and PyTorch does not support non-writeable tensors. This means you can write to the underlying (supposedly non-writeable) NumPy array using the tensor. You may want to copy the array to protect its data or make it writeable before converting it to a tensor. This type of warning will be suppressed for the rest of this program. (Triggered internally at  /opt/conda/conda-bld/pytorch_1603729004493/work/torch/csrc/utils/tensor_numpy.cpp:141.)\n",
      "  return torch.from_numpy(parsed.astype(m[2], copy=False)).view(*s)\n"
     ]
    },
    {
     "name": "stdout",
     "output_type": "stream",
     "text": [
      "Done!\n"
     ]
    }
   ],
   "source": [
    "# Padding to change the size\n",
    "# ToTensor to normalize between 0 and 1\n",
    "\n",
    "data_train = torchvision.datasets.MNIST(\n",
    "    './data/mnist',\n",
    "    train=True,\n",
    "    download=True,\n",
    "    transform=torchvision.transforms.Compose([\n",
    "        torchvision.transforms.Pad(2),\n",
    "        torchvision.transforms.ToTensor()\n",
    "    ])\n",
    ")\n",
    "\n",
    "data_test = torchvision.datasets.MNIST(\n",
    "    './data/mnist',\n",
    "    train=False,\n",
    "    download=True,\n",
    "    transform=torchvision.transforms.Compose([\n",
    "        torchvision.transforms.Pad(2),\n",
    "        torchvision.transforms.ToTensor()\n",
    "    ])\n",
    ")"
   ]
  },
  {
   "cell_type": "code",
   "execution_count": 21,
   "metadata": {},
   "outputs": [],
   "source": [
    "BATCH_SIZE = 32\n",
    "\n",
    "# Efficient loading of the images\n",
    "train_loader = torch.utils.data.DataLoader(\n",
    "    data_train,\n",
    "    batch_size=BATCH_SIZE,\n",
    "    shuffle=True,\n",
    "    num_workers=4 #depends on your cpu/gpu\n",
    ")\n",
    "\n",
    "test_loader = torch.utils.data.DataLoader(\n",
    "    data_test,\n",
    "    batch_size=BATCH_SIZE,\n",
    "    shuffle=False,\n",
    "    num_workers=4\n",
    ")"
   ]
  },
  {
   "cell_type": "markdown",
   "metadata": {},
   "source": [
    "#### GPU Support"
   ]
  },
  {
   "cell_type": "code",
   "execution_count": 22,
   "metadata": {},
   "outputs": [
    {
     "data": {
      "text/plain": [
       "device(type='cpu')"
      ]
     },
     "execution_count": 22,
     "metadata": {},
     "output_type": "execute_result"
    }
   ],
   "source": [
    "device = torch.device('cpu')\n",
    "if torch.cuda.is_available():\n",
    "    device = torch.device('cuda')\n",
    "\n",
    "\n",
    "device"
   ]
  },
  {
   "cell_type": "markdown",
   "metadata": {},
   "source": [
    "#### Cauchy-Schwarz Divergence"
   ]
  },
  {
   "cell_type": "code",
   "execution_count": 23,
   "metadata": {},
   "outputs": [],
   "source": [
    "# convert the vector of outputs to onehot encoded output (matrix)\n",
    "def encodeOneHot(torch_tensor):\n",
    "    a = torch_tensor.cpu().numpy()\n",
    "    \n",
    "    b = np.zeros( ( a.size, 10 ) )\n",
    "    \n",
    "    b[ np.arange(a.size), a ] = 1\n",
    "\n",
    "    return torch.from_numpy(b).float().to(device)\n",
    "\n",
    "# Cauchy–Schwartz divergence (CSD)\n",
    "class CSD(torch.nn.Module):\n",
    "    \n",
    "    def __init__(self):\n",
    "        \n",
    "        super(CSD, self).__init__()\n",
    "    \n",
    "    def forward(self, outputs, target):\n",
    "        \n",
    "        y = encodeOneHot(target)\n",
    "        \n",
    "        # dot product between the outouts and the target label y\n",
    "        nom = torch.sum(torch.mm(outputs, y.t()), dim=1)\n",
    "        \n",
    "        denom = torch.norm(outputs, 2) * torch.norm(y, 2)\n",
    "        \n",
    "        #return scalar value\n",
    "        return torch.mean(-1 * torch.log(nom / denom))"
   ]
  },
  {
   "cell_type": "markdown",
   "metadata": {},
   "source": [
    "#### Model Training"
   ]
  },
  {
   "cell_type": "code",
   "execution_count": 32,
   "metadata": {},
   "outputs": [],
   "source": [
    "network = LeNet5().to(device)\n",
    "optimizer = torch.optim.Adam(network.parameters(), lr=0.005)\n",
    "criterion = CSD() #loss function"
   ]
  },
  {
   "cell_type": "code",
   "execution_count": 33,
   "metadata": {},
   "outputs": [
    {
     "name": "stdout",
     "output_type": "stream",
     "text": [
      "Epoch: 1, Loss: 1.1622\n",
      "Epoch: 2, Loss: 1.1510\n",
      "Epoch: 3, Loss: 1.1520\n",
      "Epoch: 4, Loss: 1.1501\n",
      "Epoch: 5, Loss: 1.1510\n",
      "Epoch: 6, Loss: 1.1520\n",
      "Epoch: 7, Loss: 1.1467\n",
      "Epoch: 8, Loss: 1.1508\n",
      "Epoch: 9, Loss: 1.1516\n",
      "Epoch: 10, Loss: 1.1515\n",
      "Epoch: 11, Loss: 1.1488\n",
      "Epoch: 12, Loss: 1.1481\n",
      "Epoch: 13, Loss: 1.1479\n",
      "Epoch: 14, Loss: 1.1512\n",
      "Epoch: 15, Loss: 1.1511\n",
      "Epoch: 16, Loss: 1.1505\n",
      "Epoch: 17, Loss: 1.1526\n",
      "Epoch: 18, Loss: 1.1488\n",
      "Epoch: 19, Loss: 1.1496\n",
      "Epoch: 20, Loss: 1.1521\n",
      "Epoch: 21, Loss: 1.1510\n",
      "Epoch: 22, Loss: 1.1494\n",
      "Epoch: 23, Loss: 1.1507\n",
      "Epoch: 24, Loss: 1.1493\n",
      "Epoch: 25, Loss: 1.1519\n",
      "Epoch: 26, Loss: 1.1510\n",
      "Epoch: 27, Loss: 1.1518\n",
      "Epoch: 28, Loss: 1.1512\n",
      "Epoch: 29, Loss: 1.1496\n",
      "Epoch: 30, Loss: 1.1515\n",
      "Epoch: 31, Loss: 1.1503\n",
      "Epoch: 32, Loss: 1.1513\n",
      "Epoch: 33, Loss: 1.1495\n",
      "Epoch: 34, Loss: 1.1466\n",
      "Epoch: 35, Loss: 1.1516\n",
      "Epoch: 36, Loss: 1.1510\n",
      "Epoch: 37, Loss: 1.1490\n",
      "Epoch: 38, Loss: 1.1520\n",
      "Epoch: 39, Loss: 1.1505\n",
      "Epoch: 40, Loss: 1.1499\n",
      "Epoch: 41, Loss: 1.1502\n",
      "Epoch: 42, Loss: 1.1509\n",
      "Epoch: 43, Loss: 1.1505\n",
      "Epoch: 44, Loss: 1.1523\n",
      "Epoch: 45, Loss: 1.1510\n",
      "Epoch: 46, Loss: 1.1509\n",
      "Epoch: 47, Loss: 1.1512\n",
      "Epoch: 48, Loss: 1.1534\n",
      "Epoch: 49, Loss: 1.1502\n",
      "Epoch: 50, Loss: 1.1496\n",
      "Epoch: 51, Loss: 1.1508\n",
      "Epoch: 52, Loss: 1.1487\n",
      "Epoch: 53, Loss: 1.1500\n",
      "Epoch: 54, Loss: 1.1498\n",
      "Epoch: 55, Loss: 1.1478\n",
      "Epoch: 56, Loss: 1.1516\n",
      "Epoch: 57, Loss: 1.1478\n",
      "Epoch: 58, Loss: 1.1509\n",
      "Epoch: 59, Loss: 1.1511\n",
      "Epoch: 60, Loss: 1.1537\n",
      "Epoch: 61, Loss: 1.1504\n",
      "Epoch: 62, Loss: 1.1507\n",
      "Epoch: 63, Loss: 1.1499\n",
      "Epoch: 64, Loss: 1.1515\n",
      "Epoch: 65, Loss: 1.1497\n",
      "Epoch: 66, Loss: 1.1499\n",
      "Epoch: 67, Loss: 1.1499\n",
      "Epoch: 68, Loss: 1.1493\n",
      "Epoch: 69, Loss: 1.1483\n",
      "Epoch: 70, Loss: 1.1506\n",
      "Epoch: 71, Loss: 1.1506\n",
      "Epoch: 72, Loss: 1.1496\n",
      "Epoch: 73, Loss: 1.1491\n",
      "Epoch: 74, Loss: 1.1510\n",
      "Epoch: 75, Loss: 1.1499\n",
      "Epoch: 76, Loss: 1.1490\n",
      "Epoch: 77, Loss: 1.1502\n",
      "Epoch: 78, Loss: 1.1516\n",
      "Epoch: 79, Loss: 1.1512\n",
      "Epoch: 80, Loss: 1.1505\n",
      "Epoch: 81, Loss: 1.1496\n",
      "Epoch: 82, Loss: 1.1519\n",
      "Epoch: 83, Loss: 1.1502\n",
      "Epoch: 84, Loss: 1.1493\n",
      "Epoch: 85, Loss: 1.1522\n",
      "Epoch: 86, Loss: 1.1517\n",
      "Epoch: 87, Loss: 1.1489\n",
      "Epoch: 88, Loss: 1.1524\n",
      "Epoch: 89, Loss: 1.1511\n",
      "Epoch: 90, Loss: 1.1510\n",
      "Epoch: 91, Loss: 1.1495\n",
      "Epoch: 92, Loss: 1.1493\n",
      "Epoch: 93, Loss: 1.1533\n",
      "Epoch: 94, Loss: 1.1516\n",
      "Epoch: 95, Loss: 1.1504\n",
      "Epoch: 96, Loss: 1.1514\n",
      "Epoch: 97, Loss: 1.1507\n",
      "Epoch: 98, Loss: 1.1506\n",
      "Epoch: 99, Loss: 1.1501\n",
      "Epoch: 100, Loss: 1.1509\n",
      "Epoch: 101, Loss: 1.1524\n",
      "Epoch: 102, Loss: 1.1510\n",
      "Epoch: 103, Loss: 1.1520\n",
      "Epoch: 104, Loss: 1.1522\n",
      "Epoch: 105, Loss: 1.1500\n",
      "Epoch: 106, Loss: 1.1509\n",
      "Epoch: 107, Loss: 1.1508\n",
      "Epoch: 108, Loss: 1.1495\n",
      "Epoch: 109, Loss: 1.1498\n",
      "Epoch: 110, Loss: 1.1495\n",
      "Epoch: 111, Loss: 1.1516\n",
      "Epoch: 112, Loss: 1.1503\n",
      "Epoch: 113, Loss: 1.1503\n",
      "Epoch: 114, Loss: 1.1486\n",
      "Epoch: 115, Loss: 1.1515\n",
      "Epoch: 116, Loss: 1.1472\n",
      "Epoch: 117, Loss: 1.1495\n",
      "Epoch: 118, Loss: 1.1533\n",
      "Epoch: 119, Loss: 1.1503\n",
      "Epoch: 120, Loss: 1.1501\n",
      "Epoch: 121, Loss: 1.1503\n",
      "Epoch: 122, Loss: 1.1487\n",
      "Epoch: 123, Loss: 1.1492\n",
      "Epoch: 124, Loss: 1.1550\n",
      "Epoch: 125, Loss: 1.1509\n",
      "Epoch: 126, Loss: 1.1505\n",
      "Epoch: 127, Loss: 1.1495\n",
      "Epoch: 128, Loss: 1.1497\n"
     ]
    }
   ],
   "source": [
    "epochs = 128\n",
    "steps = len(train_loader) // BATCH_SIZE\n",
    "\n",
    "network.train(True)\n",
    "\n",
    "for e in range(epochs):\n",
    "    \n",
    "    epoch_loss = 0\n",
    "\n",
    "    performed_steps = 0\n",
    "    \n",
    "    for i, (images, labels) in enumerate(train_loader):\n",
    "        \n",
    "        if i == steps:\n",
    "            break\n",
    "        \n",
    "        # translate it to our device\n",
    "        images, labels = images.to(device), labels.to(device)\n",
    "        #initialize gradients (not accumulating from previous epochs)\n",
    "        optimizer.zero_grad()\n",
    "        \n",
    "        outputs = network(images)\n",
    "        \n",
    "        loss = criterion(outputs, labels)\n",
    "        \n",
    "        #calculating the gradients\n",
    "        loss.backward()\n",
    "        \n",
    "        optimizer.step()\n",
    "        \n",
    "        epoch_loss += loss\n",
    "        \n",
    "        performed_steps += 1\n",
    "    \n",
    "    assert performed_steps == steps, \"steps: {} != {}\".format(steps, performed_steps)\n",
    "    \n",
    "    print(\"Epoch: {}, Loss: {:0.4f}\".format(\n",
    "        e + 1,\n",
    "        epoch_loss / steps\n",
    "    ))\n"
   ]
  },
  {
   "cell_type": "markdown",
   "metadata": {},
   "source": [
    "#### Model Evaluation"
   ]
  },
  {
   "cell_type": "code",
   "execution_count": 35,
   "metadata": {},
   "outputs": [
    {
     "name": "stdout",
     "output_type": "stream",
     "text": [
      "Loss: 1.15, Acc: 11.33%\n"
     ]
    }
   ],
   "source": [
    "avg_loss = 0\n",
    "avg_acc = 0\n",
    "\n",
    "network.train(False)\n",
    "\n",
    "#not gradients would be calulated or updated\n",
    "with torch.no_grad():\n",
    "    \n",
    "    steps = 0\n",
    "\n",
    "    for images, labels in test_loader:\n",
    "        \n",
    "        images, labels = images.to(device), labels.to(device)\n",
    "\n",
    "        outputs = network(images)\n",
    "\n",
    "        avg_loss += criterion(outputs, labels)\n",
    "\n",
    "        _, preds = torch.max(outputs, 1)\n",
    "        avg_acc += preds.eq(labels).sum().item()\n",
    "        \n",
    "        steps += 1\n",
    "\n",
    "\n",
    "print(\"Loss: {:0.2f}, Acc: {:.2%}\".format(\n",
    "    avg_loss / steps,\n",
    "    avg_acc / (steps * BATCH_SIZE)\n",
    "))"
   ]
  },
  {
   "cell_type": "markdown",
   "metadata": {},
   "source": [
    "### Read More\n",
    "\n",
    "<ul>\n",
    "    <li>Robert Jenssen, Jose C. Principe, Deniz Erdogmus, Torbjørn Eltoft, The Cauchy–Schwarz divergence and Parzen windowing: Connections to graph theory and Mercer kernels, Journal of the Franklin Institute, Volume 343, Issue 6, 2006, Pages 614-629, ISSN 0016-0032, https://doi.org/10.1016/j.jfranklin.2006.03.018.</li>\n",
    "    <li>Jenssen, R., Eltoft, T., Erdogmus, D. et al. J VLSI Sign Process Syst Sign Image Video Technol (2006) 45: 49. https://doi.org/10.1007/s11265-006-9771-8</li>\n",
    "    <li>Janocha, K., & Czarnecki, W. (2017). On Loss Functions for Deep Neural Networks in Classification. CoRR, abs/1702.05659.</li>\n",
    "    <li>Lecun, Yann & Bottou, Leon & Bengio, Y & Haffner, Patrick. (1998). Gradient-Based Learning Applied to Document Recognition. Proceedings of the IEEE. 86. 2278 - 2324. 10.1109/5.726791. http://yann.lecun.com/exdb/publis/pdf/lecun-01a.pdf </li>\n",
    "</ul>"
   ]
  },
  {
   "cell_type": "markdown",
   "metadata": {},
   "source": [
    "#### Course Discussions\n",
    "\n",
    "Slack Channel: <a href=\"https://mqubits.slack.com/join/shared_invite/enQtNjU2MTQ3ODgxMjY3LTgyMGM3MzFjOTQ3OTdlYjVmMGJkZWI0NzgxNDAyNzEzYWVlNjQwOGQ5ZmY0MzFiYjc5OGNkZmY3YzQ5M2RhOWM\">https://mqubits.slack.com/join/shared_invite/enQtNjU2MTQ3ODgxMjY3LTgyMGM3MzFjOTQ3OTdlYjVmMGJkZWI0NzgxNDAyNzEzYWVlNjQwOGQ5ZmY0MzFiYjc5OGNkZmY3YzQ5M2RhOWM</a>"
   ]
  },
  {
   "cell_type": "markdown",
   "metadata": {},
   "source": [
    "#### Google Colab\n",
    "\n",
    "<a href=\"https://colab.research.google.com/drive/1BON2RGHeRqS1tM3raz6HSpO8Xfz5-vYy\">https://colab.research.google.com/drive/1BON2RGHeRqS1tM3raz6HSpO8Xfz5-vYy</a>"
   ]
  },
  {
   "cell_type": "code",
   "execution_count": null,
   "metadata": {},
   "outputs": [],
   "source": []
  }
 ],
 "metadata": {
  "kernelspec": {
   "display_name": "Python 3",
   "language": "python",
   "name": "python3"
  },
  "language_info": {
   "codemirror_mode": {
    "name": "ipython",
    "version": 3
   },
   "file_extension": ".py",
   "mimetype": "text/x-python",
   "name": "python",
   "nbconvert_exporter": "python",
   "pygments_lexer": "ipython3",
   "version": "3.6.12"
  }
 },
 "nbformat": 4,
 "nbformat_minor": 2
}
